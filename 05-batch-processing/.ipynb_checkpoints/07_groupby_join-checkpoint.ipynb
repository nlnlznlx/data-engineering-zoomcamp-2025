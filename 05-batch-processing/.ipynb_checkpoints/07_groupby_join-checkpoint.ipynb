{
 "cells": [
  {
   "cell_type": "markdown",
   "id": "5e02327f",
   "metadata": {},
   "source": [
    "each new SparkSession you create in a different notebook starts a new SparkContext, which in turn creates a new Spark UI on an incremented port (4040 → 4041 → 4042, etc.)."
   ]
  },
  {
   "cell_type": "markdown",
   "id": "612da75b",
   "metadata": {},
   "source": [
    "When you call `SparkSession.builder`..., Spark checks if a SparkContext (sc) already exists.\n",
    "\n",
    "- If no existing SparkContext is found, Spark creates a new one and assigns the first available UI port (4040).\n",
    "- If another SparkContext is already running on 4040, the new one will increment to 4041, 4042, etc..\n",
    "\n",
    "In Jupyter Notebook, each notebook runs in an isolated process.\n",
    "If you run SparkSession.builder.getOrCreate() in multiple notebooks:\n",
    "- The first notebook gets port 4040.\n",
    "- The second notebook gets port 4041.\n",
    "- The third notebook gets port 4042, and so on."
   ]
  },
  {
   "cell_type": "markdown",
   "id": "a84f6822",
   "metadata": {},
   "source": [
    "so, Spark UI for this notebook is `http://localhost:4042/jobs/`"
   ]
  },
  {
   "cell_type": "code",
   "execution_count": 15,
   "id": "4341e0e6",
   "metadata": {},
   "outputs": [
    {
     "name": "stderr",
     "output_type": "stream",
     "text": [
      "25/03/08 15:16:35 WARN SparkSession: Using an existing Spark session; only runtime SQL configurations will take effect.\n"
     ]
    }
   ],
   "source": [
    "import pyspark\n",
    "from pyspark.sql import SparkSession\n",
    "\n",
    "spark = SparkSession.builder \\\n",
    "    .master(\"local[*]\") \\\n",
    "    .appName('test1') \\\n",
    "    .getOrCreate()"
   ]
  },
  {
   "cell_type": "markdown",
   "id": "e10fccda",
   "metadata": {},
   "source": [
    "# GroupBy"
   ]
  },
  {
   "cell_type": "code",
   "execution_count": 16,
   "id": "cd304aec",
   "metadata": {},
   "outputs": [],
   "source": [
    "df_green = spark.read.parquet('data/green/*/*')"
   ]
  },
  {
   "cell_type": "code",
   "execution_count": 17,
   "id": "243991f3",
   "metadata": {},
   "outputs": [],
   "source": [
    "df_green.registerTempTable('green')"
   ]
  },
  {
   "cell_type": "code",
   "execution_count": 28,
   "id": "e43764a7",
   "metadata": {},
   "outputs": [],
   "source": [
    "df_green_revenue = spark.sql(\"\"\"\n",
    "SELECT \n",
    "    date_trunc('hour', lpep_pickup_datetime) AS hour, \n",
    "    PULocationID AS zone,\n",
    "\n",
    "    SUM(total_amount) AS amount,\n",
    "    COUNT(1) AS number_records\n",
    "FROM\n",
    "    green\n",
    "WHERE\n",
    "    lpep_pickup_datetime >= '2020-01-01 00:00:00'\n",
    "GROUP BY\n",
    "    1, 2\n",
    "ORDER BY\n",
    "    1, 2\n",
    "\"\"\")"
   ]
  },
  {
   "cell_type": "code",
   "execution_count": 29,
   "id": "78d5d82e",
   "metadata": {},
   "outputs": [
    {
     "name": "stdout",
     "output_type": "stream",
     "text": [
      "+-------------------+----+------------------+--------------+\n",
      "|               hour|zone|            amount|number_records|\n",
      "+-------------------+----+------------------+--------------+\n",
      "|2020-01-01 00:00:00|   7| 769.7299999999997|            45|\n",
      "|2020-01-01 00:00:00|  17|            195.03|             9|\n",
      "|2020-01-01 00:00:00|  18|               7.8|             1|\n",
      "|2020-01-01 00:00:00|  22|              15.8|             1|\n",
      "|2020-01-01 00:00:00|  24|              87.6|             3|\n",
      "|2020-01-01 00:00:00|  25|             531.0|            26|\n",
      "|2020-01-01 00:00:00|  29|              61.3|             1|\n",
      "|2020-01-01 00:00:00|  32| 68.94999999999999|             2|\n",
      "|2020-01-01 00:00:00|  33|317.27000000000004|            11|\n",
      "|2020-01-01 00:00:00|  35|            129.96|             5|\n",
      "|2020-01-01 00:00:00|  36|295.34000000000003|            11|\n",
      "|2020-01-01 00:00:00|  37|            175.67|             6|\n",
      "|2020-01-01 00:00:00|  38| 98.78999999999999|             2|\n",
      "|2020-01-01 00:00:00|  40|            168.98|             8|\n",
      "|2020-01-01 00:00:00|  41| 1363.959999999999|            84|\n",
      "|2020-01-01 00:00:00|  42| 799.7600000000002|            52|\n",
      "|2020-01-01 00:00:00|  43|            107.52|             6|\n",
      "|2020-01-01 00:00:00|  47|              13.3|             1|\n",
      "|2020-01-01 00:00:00|  49|            266.76|            14|\n",
      "|2020-01-01 00:00:00|  51|              17.8|             2|\n",
      "+-------------------+----+------------------+--------------+\n",
      "only showing top 20 rows\n",
      "\n"
     ]
    }
   ],
   "source": [
    "df_green_revenue.show()"
   ]
  },
  {
   "cell_type": "code",
   "execution_count": 20,
   "id": "3e00310e",
   "metadata": {},
   "outputs": [
    {
     "name": "stderr",
     "output_type": "stream",
     "text": [
      "25/03/08 15:16:48 WARN MemoryManager: Total allocation exceeds 95.00% (1,020,054,720 bytes) of heap memory\n",
      "Scaling row group sizes to 95.00% for 8 writers\n"
     ]
    }
   ],
   "source": [
    "df_green_revenue \\\n",
    "    .repartition(20) \\\n",
    "    .write.parquet('data/report/revenue/green', mode='overwrite')\n",
    "\n",
    "# materialize the results:\n",
    "# we saved the result and then we can just load this and continue \n",
    "# (because maybe we need it for something else, maybe we want to have a dashboard just for green data separately)"
   ]
  },
  {
   "cell_type": "code",
   "execution_count": 21,
   "id": "07ebb68c",
   "metadata": {},
   "outputs": [],
   "source": [
    "df_yellow = spark.read.parquet('data/yellow/*/*')\n",
    "df_yellow.registerTempTable('yellow')"
   ]
  },
  {
   "cell_type": "code",
   "execution_count": 22,
   "id": "9d5be29d",
   "metadata": {},
   "outputs": [],
   "source": [
    "df_yellow_revenue = spark.sql(\"\"\"\n",
    "SELECT \n",
    "    date_trunc('hour', tpep_pickup_datetime) AS hour, \n",
    "    PULocationID AS zone,\n",
    "\n",
    "    SUM(total_amount) AS amount,\n",
    "    COUNT(1) AS number_records\n",
    "FROM\n",
    "    yellow\n",
    "WHERE\n",
    "    tpep_pickup_datetime >= '2020-01-01 00:00:00'\n",
    "GROUP BY\n",
    "    1, 2\n",
    "\"\"\")"
   ]
  },
  {
   "cell_type": "code",
   "execution_count": 27,
   "id": "8bd9264e",
   "metadata": {},
   "outputs": [
    {
     "name": "stderr",
     "output_type": "stream",
     "text": [
      "                                                                                \r"
     ]
    }
   ],
   "source": [
    "df_yellow_revenue \\\n",
    "    .repartition(20) \\\n",
    "    .write.parquet('data/report/revenue/yellow', mode='overwrite')\n",
    "# materialize the results"
   ]
  },
  {
   "cell_type": "markdown",
   "id": "59ed60ce",
   "metadata": {},
   "source": [
    "# Joins"
   ]
  },
  {
   "cell_type": "markdown",
   "id": "fea29d73",
   "metadata": {},
   "source": [
    "## Join two large tables"
   ]
  },
  {
   "cell_type": "code",
   "execution_count": 30,
   "id": "fd5d74d7",
   "metadata": {},
   "outputs": [],
   "source": [
    "# use materialized (saved) results:\n",
    "\n",
    "df_green_revenue = spark.read.parquet('data/report/revenue/green')\n",
    "df_yellow_revenue = spark.read.parquet('data/report/revenue/yellow')"
   ]
  },
  {
   "cell_type": "code",
   "execution_count": 31,
   "id": "35015ee6",
   "metadata": {},
   "outputs": [],
   "source": [
    "df_green_revenue_tmp = df_green_revenue \\\n",
    "    .withColumnRenamed('amount', 'green_amount') \\\n",
    "    .withColumnRenamed('number_records', 'green_number_records')\n",
    "\n",
    "df_yellow_revenue_tmp = df_yellow_revenue \\\n",
    "    .withColumnRenamed('amount', 'yellow_amount') \\\n",
    "    .withColumnRenamed('number_records', 'yellow_number_records')"
   ]
  },
  {
   "cell_type": "code",
   "execution_count": 34,
   "id": "ec9f34ea",
   "metadata": {},
   "outputs": [],
   "source": [
    "df_join = df_green_revenue_tmp.join(df_yellow_revenue_tmp, on=['hour', 'zone'], how='outer')\n",
    "\n",
    "# Outer join: includes unmatched rows of one of the tables, or of both tables"
   ]
  },
  {
   "cell_type": "code",
   "execution_count": 35,
   "id": "4310ecc7",
   "metadata": {},
   "outputs": [
    {
     "name": "stdout",
     "output_type": "stream",
     "text": [
      "+-------------------+----+------------------+--------------------+------------------+---------------------+\n",
      "|               hour|zone|      green_amount|green_number_records|     yellow_amount|yellow_number_records|\n",
      "+-------------------+----+------------------+--------------------+------------------+---------------------+\n",
      "|2020-01-01 00:00:00|  25|             531.0|                  26| 324.3500000000001|                   16|\n",
      "|2020-01-01 00:00:00|  35|            129.96|                   5|              NULL|                 NULL|\n",
      "|2020-01-01 00:00:00|  38| 98.78999999999999|                   2|              NULL|                 NULL|\n",
      "|2020-01-01 00:00:00|  50|              NULL|                NULL|  4177.48000000001|                  183|\n",
      "|2020-01-01 00:00:00|  51|              17.8|                   2|              31.0|                    1|\n",
      "|2020-01-01 00:00:00|  52|             83.33|                   4|              49.8|                    2|\n",
      "|2020-01-01 00:00:00|  55|            129.29|                   4|              NULL|                 NULL|\n",
      "|2020-01-01 00:00:00|  56|             99.69|                   3|              18.1|                    2|\n",
      "|2020-01-01 00:00:00|  73|              NULL|                NULL|              17.3|                    1|\n",
      "|2020-01-01 00:00:00|  74| 317.0900000000001|                  24|            586.21|                   47|\n",
      "|2020-01-01 00:00:00|  79|              NULL|                NULL|12573.809999999945|                  721|\n",
      "|2020-01-01 00:00:00|  81|54.870000000000005|                   2|             30.32|                    1|\n",
      "|2020-01-01 00:00:00|  85|             64.76|                   4|            102.56|                    3|\n",
      "|2020-01-01 00:00:00|  87|              NULL|                NULL|           2456.67|                  112|\n",
      "|2020-01-01 00:00:00|  88|              NULL|                NULL| 823.7999999999997|                   36|\n",
      "|2020-01-01 00:00:00|  89|              11.3|                   1|             48.16|                    2|\n",
      "|2020-01-01 00:00:00|  90|              NULL|                NULL|  5010.45000000001|                  266|\n",
      "|2020-01-01 00:00:00| 107|              NULL|                NULL| 6441.030000000021|                  380|\n",
      "|2020-01-01 00:00:00| 114|              NULL|                NULL| 6256.430000000014|                  333|\n",
      "|2020-01-01 00:00:00| 123|             34.17|                   2|              NULL|                 NULL|\n",
      "+-------------------+----+------------------+--------------------+------------------+---------------------+\n",
      "only showing top 20 rows\n",
      "\n"
     ]
    }
   ],
   "source": [
    "df_join.show()"
   ]
  },
  {
   "cell_type": "code",
   "execution_count": 33,
   "id": "10238be7",
   "metadata": {
    "scrolled": true
   },
   "outputs": [
    {
     "name": "stderr",
     "output_type": "stream",
     "text": [
      "                                                                                \r"
     ]
    }
   ],
   "source": [
    "df_join.write.parquet('data/report/revenue/total', mode='overwrite')"
   ]
  },
  {
   "cell_type": "markdown",
   "id": "3ab70e65",
   "metadata": {},
   "source": [
    "## Join one large table and one small table"
   ]
  },
  {
   "cell_type": "code",
   "execution_count": 38,
   "id": "c3af7169",
   "metadata": {},
   "outputs": [],
   "source": [
    "df_join = spark.read.parquet('data/report/revenue/total')"
   ]
  },
  {
   "cell_type": "code",
   "execution_count": 39,
   "id": "bc2a6680",
   "metadata": {},
   "outputs": [
    {
     "data": {
      "text/plain": [
       "DataFrame[hour: timestamp, zone: bigint, green_amount: double, green_number_records: bigint, yellow_amount: double, yellow_number_records: bigint]"
      ]
     },
     "execution_count": 39,
     "metadata": {},
     "output_type": "execute_result"
    }
   ],
   "source": [
    "df_join"
   ]
  },
  {
   "cell_type": "code",
   "execution_count": 40,
   "id": "abb46398",
   "metadata": {},
   "outputs": [],
   "source": [
    "df_zones = spark.read.parquet('zones/')"
   ]
  },
  {
   "cell_type": "code",
   "execution_count": 42,
   "id": "b3cf98a5",
   "metadata": {},
   "outputs": [],
   "source": [
    "df_result = df_join.join(df_zones, df_join.zone == df_zones.LocationID) \n",
    "# 对应column的名字不同, 不能用 on=['hour', 'zone']"
   ]
  },
  {
   "cell_type": "code",
   "execution_count": 44,
   "id": "5e0614ba",
   "metadata": {},
   "outputs": [],
   "source": [
    "df_result.drop('LocationID', 'zone').write.parquet('tmp/revenue-zones')"
   ]
  },
  {
   "cell_type": "code",
   "execution_count": null,
   "id": "9f5ca913",
   "metadata": {},
   "outputs": [],
   "source": []
  }
 ],
 "metadata": {
  "kernelspec": {
   "display_name": "Python 3 (ipykernel)",
   "language": "python",
   "name": "python3"
  },
  "language_info": {
   "codemirror_mode": {
    "name": "ipython",
    "version": 3
   },
   "file_extension": ".py",
   "mimetype": "text/x-python",
   "name": "python",
   "nbconvert_exporter": "python",
   "pygments_lexer": "ipython3",
   "version": "3.10.16"
  }
 },
 "nbformat": 4,
 "nbformat_minor": 5
}
